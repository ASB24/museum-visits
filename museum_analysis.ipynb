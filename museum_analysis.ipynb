{
  "cells": [
    {
      "cell_type": "markdown",
      "metadata": {
        "id": "YgGOPJ5H2OnT"
      },
      "source": [
        "# Museum Visits Analysis\n",
        "\n",
        "The data was obtained from the open data portal provided by the General Directorate of Museums. [Dataset Link](https://datos.gob.do/dataset/mi-conjunto-de-datos-museos-estadisticas)\n"
      ]
    },
    {
      "cell_type": "markdown",
      "metadata": {
        "id": "W0ILImN124m3"
      },
      "source": [
        "## Data Overview\n"
      ]
    },
    {
      "cell_type": "markdown",
      "metadata": {
        "id": "g97eErSzj_EC"
      },
      "source": [
        "### Visit counts\n"
      ]
    },
    {
      "cell_type": "code",
      "execution_count": 3,
      "metadata": {
        "colab": {
          "base_uri": "https://localhost:8080/"
        },
        "id": "rR1DTETIyKT6",
        "outputId": "fafc4440-636e-4d22-b4eb-e700dc0205c6"
      },
      "outputs": [
        {
          "name": "stdout",
          "output_type": "stream",
          "text": [
            "Rows: 1025\n",
            "Columns:\n",
            "Index(['MUSEO', 'NIÑOS NACIONALES', 'ADULTOS NACIONALES', 'NIÑOS EXTRANJEROS',\n",
            "       'ADULTOS EXTRANJEROS', 'PROFESORES', 'ESTUDIANTES', 'MES', 'AÑO'],\n",
            "      dtype='object')\n"
          ]
        }
      ],
      "source": [
        "import pandas as pd\n",
        "\n",
        "df = pd.read_excel('./museum_visits.xlsx')\n",
        "print(f'Rows: {df.shape[0]}\\nColumns:\\n{df.columns}')"
      ]
    },
    {
      "cell_type": "code",
      "execution_count": 4,
      "metadata": {
        "colab": {
          "base_uri": "https://localhost:8080/",
          "height": 536
        },
        "id": "k-wKIv9n1-t7",
        "outputId": "f468a450-a4bc-4afa-f841-356ae57a6af1"
      },
      "outputs": [
        {
          "data": {
            "text/html": [
              "<div>\n",
              "<style scoped>\n",
              "    .dataframe tbody tr th:only-of-type {\n",
              "        vertical-align: middle;\n",
              "    }\n",
              "\n",
              "    .dataframe tbody tr th {\n",
              "        vertical-align: top;\n",
              "    }\n",
              "\n",
              "    .dataframe thead th {\n",
              "        text-align: right;\n",
              "    }\n",
              "</style>\n",
              "<table border=\"1\" class=\"dataframe\">\n",
              "  <thead>\n",
              "    <tr style=\"text-align: right;\">\n",
              "      <th></th>\n",
              "      <th>MUSEO</th>\n",
              "      <th>NIÑOS NACIONALES</th>\n",
              "      <th>ADULTOS NACIONALES</th>\n",
              "      <th>NIÑOS EXTRANJEROS</th>\n",
              "      <th>ADULTOS EXTRANJEROS</th>\n",
              "      <th>PROFESORES</th>\n",
              "      <th>ESTUDIANTES</th>\n",
              "      <th>MES</th>\n",
              "      <th>AÑO</th>\n",
              "    </tr>\n",
              "  </thead>\n",
              "  <tbody>\n",
              "    <tr>\n",
              "      <th>0</th>\n",
              "      <td>MUSEO DE LA FAMILIA DOMINICANA</td>\n",
              "      <td>0</td>\n",
              "      <td>29</td>\n",
              "      <td>0</td>\n",
              "      <td>180</td>\n",
              "      <td>0</td>\n",
              "      <td>85</td>\n",
              "      <td>ENERO</td>\n",
              "      <td>2016</td>\n",
              "    </tr>\n",
              "    <tr>\n",
              "      <th>1</th>\n",
              "      <td>FORTALEZA DE SANTO DOMINGO</td>\n",
              "      <td>88</td>\n",
              "      <td>1052</td>\n",
              "      <td>105</td>\n",
              "      <td>1268</td>\n",
              "      <td>6</td>\n",
              "      <td>293</td>\n",
              "      <td>ENERO</td>\n",
              "      <td>2016</td>\n",
              "    </tr>\n",
              "    <tr>\n",
              "      <th>2</th>\n",
              "      <td>MUSEO DEL HOMBRE DOMINICANO</td>\n",
              "      <td>48</td>\n",
              "      <td>152</td>\n",
              "      <td>2</td>\n",
              "      <td>100</td>\n",
              "      <td>18</td>\n",
              "      <td>685</td>\n",
              "      <td>ENERO</td>\n",
              "      <td>2016</td>\n",
              "    </tr>\n",
              "    <tr>\n",
              "      <th>3</th>\n",
              "      <td>MUSEO FORTALEZA SAN FELIPE PTO PLATA</td>\n",
              "      <td>48</td>\n",
              "      <td>961</td>\n",
              "      <td>0</td>\n",
              "      <td>5476</td>\n",
              "      <td>0</td>\n",
              "      <td>54</td>\n",
              "      <td>ENERO</td>\n",
              "      <td>2016</td>\n",
              "    </tr>\n",
              "    <tr>\n",
              "      <th>4</th>\n",
              "      <td>MUSEO FARO A COLON</td>\n",
              "      <td>43</td>\n",
              "      <td>683</td>\n",
              "      <td>74</td>\n",
              "      <td>2892</td>\n",
              "      <td>0</td>\n",
              "      <td>21</td>\n",
              "      <td>ENERO</td>\n",
              "      <td>2016</td>\n",
              "    </tr>\n",
              "    <tr>\n",
              "      <th>5</th>\n",
              "      <td>MUSEO DE LAS CASAS REALES</td>\n",
              "      <td>56</td>\n",
              "      <td>297</td>\n",
              "      <td>10</td>\n",
              "      <td>3853</td>\n",
              "      <td>11</td>\n",
              "      <td>518</td>\n",
              "      <td>ENERO</td>\n",
              "      <td>2016</td>\n",
              "    </tr>\n",
              "    <tr>\n",
              "      <th>6</th>\n",
              "      <td>MUSEO ALCAZAR DE COLON</td>\n",
              "      <td>247</td>\n",
              "      <td>507</td>\n",
              "      <td>187</td>\n",
              "      <td>13790</td>\n",
              "      <td>0</td>\n",
              "      <td>287</td>\n",
              "      <td>ENERO</td>\n",
              "      <td>2016</td>\n",
              "    </tr>\n",
              "    <tr>\n",
              "      <th>7</th>\n",
              "      <td>MUSEO DE ARTE MODERNO</td>\n",
              "      <td>0</td>\n",
              "      <td>356</td>\n",
              "      <td>0</td>\n",
              "      <td>102</td>\n",
              "      <td>0</td>\n",
              "      <td>269</td>\n",
              "      <td>ENERO</td>\n",
              "      <td>2016</td>\n",
              "    </tr>\n",
              "    <tr>\n",
              "      <th>8</th>\n",
              "      <td>MUSEO JUAN PONCE DE LEON</td>\n",
              "      <td>0</td>\n",
              "      <td>0</td>\n",
              "      <td>0</td>\n",
              "      <td>0</td>\n",
              "      <td>0</td>\n",
              "      <td>0</td>\n",
              "      <td>ENERO</td>\n",
              "      <td>2016</td>\n",
              "    </tr>\n",
              "    <tr>\n",
              "      <th>9</th>\n",
              "      <td>MUSEO DE LA FAMILIA DOMINICANA</td>\n",
              "      <td>0</td>\n",
              "      <td>12</td>\n",
              "      <td>0</td>\n",
              "      <td>247</td>\n",
              "      <td>0</td>\n",
              "      <td>182</td>\n",
              "      <td>FEBRERO</td>\n",
              "      <td>2016</td>\n",
              "    </tr>\n",
              "  </tbody>\n",
              "</table>\n",
              "</div>"
            ],
            "text/plain": [
              "                                  MUSEO  NIÑOS NACIONALES  ADULTOS NACIONALES  \\\n",
              "0        MUSEO DE LA FAMILIA DOMINICANA                 0                  29   \n",
              "1            FORTALEZA DE SANTO DOMINGO                88                1052   \n",
              "2           MUSEO DEL HOMBRE DOMINICANO                48                 152   \n",
              "3  MUSEO FORTALEZA SAN FELIPE PTO PLATA                48                 961   \n",
              "4                    MUSEO FARO A COLON                43                 683   \n",
              "5             MUSEO DE LAS CASAS REALES                56                 297   \n",
              "6                MUSEO ALCAZAR DE COLON               247                 507   \n",
              "7                 MUSEO DE ARTE MODERNO                 0                 356   \n",
              "8              MUSEO JUAN PONCE DE LEON                 0                   0   \n",
              "9        MUSEO DE LA FAMILIA DOMINICANA                 0                  12   \n",
              "\n",
              "   NIÑOS EXTRANJEROS  ADULTOS EXTRANJEROS  PROFESORES  ESTUDIANTES      MES  \\\n",
              "0                  0                  180           0           85    ENERO   \n",
              "1                105                 1268           6          293    ENERO   \n",
              "2                  2                  100          18          685    ENERO   \n",
              "3                  0                 5476           0           54    ENERO   \n",
              "4                 74                 2892           0           21    ENERO   \n",
              "5                 10                 3853          11          518    ENERO   \n",
              "6                187                13790           0          287    ENERO   \n",
              "7                  0                  102           0          269    ENERO   \n",
              "8                  0                    0           0            0    ENERO   \n",
              "9                  0                  247           0          182  FEBRERO   \n",
              "\n",
              "    AÑO  \n",
              "0  2016  \n",
              "1  2016  \n",
              "2  2016  \n",
              "3  2016  \n",
              "4  2016  \n",
              "5  2016  \n",
              "6  2016  \n",
              "7  2016  \n",
              "8  2016  \n",
              "9  2016  "
            ]
          },
          "execution_count": 4,
          "metadata": {},
          "output_type": "execute_result"
        }
      ],
      "source": [
        "df.head(10)"
      ]
    },
    {
      "cell_type": "markdown",
      "metadata": {
        "id": "OghFnzGe4Hi_"
      },
      "source": [
        "---\n",
        "\n",
        "As we can see, the data is separated by museum name, month and year, separating the visit counts by national and international adults and minors, along with professors and students.\n",
        "\n",
        "Despite the dataset lacks a column for type or target audience, we could infer which group of visitors prefers one museum type over the other.\n"
      ]
    },
    {
      "cell_type": "code",
      "execution_count": 5,
      "metadata": {
        "colab": {
          "base_uri": "https://localhost:8080/",
          "height": 359
        },
        "id": "B9Yh43_v55dr",
        "outputId": "c61c720d-33ab-44de-db87-1bc0af9c1618"
      },
      "outputs": [
        {
          "data": {
            "text/html": [
              "<div>\n",
              "<style scoped>\n",
              "    .dataframe tbody tr th:only-of-type {\n",
              "        vertical-align: middle;\n",
              "    }\n",
              "\n",
              "    .dataframe tbody tr th {\n",
              "        vertical-align: top;\n",
              "    }\n",
              "\n",
              "    .dataframe thead th {\n",
              "        text-align: right;\n",
              "    }\n",
              "</style>\n",
              "<table border=\"1\" class=\"dataframe\">\n",
              "  <thead>\n",
              "    <tr style=\"text-align: right;\">\n",
              "      <th></th>\n",
              "      <th>NIÑOS NACIONALES</th>\n",
              "      <th>ADULTOS NACIONALES</th>\n",
              "      <th>NIÑOS EXTRANJEROS</th>\n",
              "      <th>ADULTOS EXTRANJEROS</th>\n",
              "      <th>PROFESORES</th>\n",
              "      <th>ESTUDIANTES</th>\n",
              "      <th>NIÑOS TOTAL</th>\n",
              "      <th>ADULTOS TOTAL</th>\n",
              "      <th>TOTAL</th>\n",
              "    </tr>\n",
              "    <tr>\n",
              "      <th>MUSEO</th>\n",
              "      <th></th>\n",
              "      <th></th>\n",
              "      <th></th>\n",
              "      <th></th>\n",
              "      <th></th>\n",
              "      <th></th>\n",
              "      <th></th>\n",
              "      <th></th>\n",
              "      <th></th>\n",
              "    </tr>\n",
              "  </thead>\n",
              "  <tbody>\n",
              "    <tr>\n",
              "      <th>MUSEO ALCAZAR DE COLON</th>\n",
              "      <td>48219</td>\n",
              "      <td>117488</td>\n",
              "      <td>35166</td>\n",
              "      <td>853726</td>\n",
              "      <td>2079</td>\n",
              "      <td>100679</td>\n",
              "      <td>83385</td>\n",
              "      <td>971214</td>\n",
              "      <td>1157357</td>\n",
              "    </tr>\n",
              "    <tr>\n",
              "      <th>MUSEO DE LAS CASAS REALES</th>\n",
              "      <td>25875</td>\n",
              "      <td>55995</td>\n",
              "      <td>3591</td>\n",
              "      <td>330848</td>\n",
              "      <td>2079</td>\n",
              "      <td>88465</td>\n",
              "      <td>29466</td>\n",
              "      <td>386843</td>\n",
              "      <td>506853</td>\n",
              "    </tr>\n",
              "    <tr>\n",
              "      <th>MUSEO FORTALEZA SAN FELIPE PTO PLATA</th>\n",
              "      <td>12900</td>\n",
              "      <td>64435</td>\n",
              "      <td>9467</td>\n",
              "      <td>298546</td>\n",
              "      <td>2062</td>\n",
              "      <td>61138</td>\n",
              "      <td>22367</td>\n",
              "      <td>362981</td>\n",
              "      <td>448548</td>\n",
              "    </tr>\n",
              "    <tr>\n",
              "      <th>MUSEO FARO A COLON</th>\n",
              "      <td>9233</td>\n",
              "      <td>37684</td>\n",
              "      <td>17815</td>\n",
              "      <td>237714</td>\n",
              "      <td>3648</td>\n",
              "      <td>34533</td>\n",
              "      <td>27048</td>\n",
              "      <td>275398</td>\n",
              "      <td>340627</td>\n",
              "    </tr>\n",
              "    <tr>\n",
              "      <th>MUSEO DE ARTE MODERNO</th>\n",
              "      <td>26046</td>\n",
              "      <td>152184</td>\n",
              "      <td>2810</td>\n",
              "      <td>21732</td>\n",
              "      <td>11755</td>\n",
              "      <td>103767</td>\n",
              "      <td>28856</td>\n",
              "      <td>173916</td>\n",
              "      <td>318294</td>\n",
              "    </tr>\n",
              "  </tbody>\n",
              "</table>\n",
              "</div>"
            ],
            "text/plain": [
              "                                      NIÑOS NACIONALES  ADULTOS NACIONALES  \\\n",
              "MUSEO                                                                        \n",
              "MUSEO ALCAZAR DE COLON                           48219              117488   \n",
              "MUSEO DE LAS CASAS REALES                        25875               55995   \n",
              "MUSEO FORTALEZA SAN FELIPE PTO PLATA             12900               64435   \n",
              "MUSEO FARO A COLON                                9233               37684   \n",
              "MUSEO DE ARTE MODERNO                            26046              152184   \n",
              "\n",
              "                                      NIÑOS EXTRANJEROS  ADULTOS EXTRANJEROS  \\\n",
              "MUSEO                                                                          \n",
              "MUSEO ALCAZAR DE COLON                            35166               853726   \n",
              "MUSEO DE LAS CASAS REALES                          3591               330848   \n",
              "MUSEO FORTALEZA SAN FELIPE PTO PLATA               9467               298546   \n",
              "MUSEO FARO A COLON                                17815               237714   \n",
              "MUSEO DE ARTE MODERNO                              2810                21732   \n",
              "\n",
              "                                      PROFESORES  ESTUDIANTES  NIÑOS TOTAL  \\\n",
              "MUSEO                                                                        \n",
              "MUSEO ALCAZAR DE COLON                      2079       100679        83385   \n",
              "MUSEO DE LAS CASAS REALES                   2079        88465        29466   \n",
              "MUSEO FORTALEZA SAN FELIPE PTO PLATA        2062        61138        22367   \n",
              "MUSEO FARO A COLON                          3648        34533        27048   \n",
              "MUSEO DE ARTE MODERNO                      11755       103767        28856   \n",
              "\n",
              "                                      ADULTOS TOTAL    TOTAL  \n",
              "MUSEO                                                         \n",
              "MUSEO ALCAZAR DE COLON                       971214  1157357  \n",
              "MUSEO DE LAS CASAS REALES                    386843   506853  \n",
              "MUSEO FORTALEZA SAN FELIPE PTO PLATA         362981   448548  \n",
              "MUSEO FARO A COLON                           275398   340627  \n",
              "MUSEO DE ARTE MODERNO                        173916   318294  "
            ]
          },
          "execution_count": 5,
          "metadata": {},
          "output_type": "execute_result"
        }
      ],
      "source": [
        "count_by_museum = df[['MUSEO','NIÑOS NACIONALES','ADULTOS NACIONALES', 'NIÑOS EXTRANJEROS','ADULTOS EXTRANJEROS','PROFESORES','ESTUDIANTES']] \\\n",
        "  .groupby('MUSEO')\\\n",
        "  .agg('sum')\n",
        "count_by_museum['NIÑOS TOTAL'] = count_by_museum['NIÑOS NACIONALES'] + count_by_museum['NIÑOS EXTRANJEROS']\n",
        "count_by_museum['ADULTOS TOTAL'] = count_by_museum['ADULTOS NACIONALES'] + count_by_museum['ADULTOS EXTRANJEROS']\n",
        "count_by_museum['TOTAL'] = count_by_museum['NIÑOS TOTAL'] + count_by_museum['ADULTOS TOTAL'] + count_by_museum['PROFESORES'] + count_by_museum['ESTUDIANTES']\n",
        "\n",
        "count_by_museum = count_by_museum.sort_values('TOTAL', ascending=False)\n",
        "\n",
        "count_by_museum.head(5)"
      ]
    },
    {
      "cell_type": "markdown",
      "metadata": {
        "id": "2yB9zl3rkKNL"
      },
      "source": [
        "### Time Series Analysis\n",
        "\n",
        "In order to create a time series analysis, we need to reformat the data in order to create a time series index based on the month and year of each row. We can start by converting the month string to a more manageable number, in order to create the dates.\n"
      ]
    },
    {
      "cell_type": "code",
      "execution_count": 6,
      "metadata": {
        "id": "YBH54wJAiO7c"
      },
      "outputs": [],
      "source": [
        "month_dict = {\n",
        "        \"ENERO\" : 1,\n",
        "        \"FEBRERO\": 2,\n",
        "        \"MARZO\": 3,\n",
        "        \"ABRIL\": 4,\n",
        "        \"MAYO\": 5,\n",
        "        \"JUNIO\": 6,\n",
        "        \"JULIO\": 7,\n",
        "        \"AGOSTO\": 8,\n",
        "        \"SEPTIEMBRE\": 9,\n",
        "        \"OCTUBRE\": 10,\n",
        "        \"NOVIEMBRE\": 11,\n",
        "        \"DICIEMBRE\": 12\n",
        "    }"
      ]
    },
    {
      "cell_type": "code",
      "execution_count": 7,
      "metadata": {
        "colab": {
          "base_uri": "https://localhost:8080/",
          "height": 355
        },
        "id": "EhX8OVizi4Db",
        "outputId": "0fea2302-7262-46e9-f3f6-5cf99ce489e1"
      },
      "outputs": [
        {
          "ename": "ValueError",
          "evalue": "invalid literal for int() with base 10: 'ENERO ': Error while type casting for column 'MES'",
          "output_type": "error",
          "traceback": [
            "\u001b[0;31m---------------------------------------------------------------------------\u001b[0m",
            "\u001b[0;31mValueError\u001b[0m                                Traceback (most recent call last)",
            "\u001b[1;32m/home/alexs/data-science/museum-visits/museum_analysis.ipynb Cell 10\u001b[0m line \u001b[0;36m2\n\u001b[1;32m      <a href='vscode-notebook-cell://wsl%2Bubuntu/home/alexs/data-science/museum-visits/museum_analysis.ipynb#X12sdnNjb2RlLXJlbW90ZQ%3D%3D?line=0'>1</a>\u001b[0m count_by_date \u001b[39m=\u001b[39m df\u001b[39m.\u001b[39mreplace({\u001b[39m\"\u001b[39m\u001b[39mMES\u001b[39m\u001b[39m\"\u001b[39m: month_dict}, inplace\u001b[39m=\u001b[39m\u001b[39mFalse\u001b[39;00m)\n\u001b[0;32m----> <a href='vscode-notebook-cell://wsl%2Bubuntu/home/alexs/data-science/museum-visits/museum_analysis.ipynb#X12sdnNjb2RlLXJlbW90ZQ%3D%3D?line=1'>2</a>\u001b[0m count_by_date \u001b[39m=\u001b[39m count_by_date\u001b[39m.\u001b[39;49mastype({\u001b[39m\"\u001b[39;49m\u001b[39mMES\u001b[39;49m\u001b[39m\"\u001b[39;49m: \u001b[39m'\u001b[39;49m\u001b[39mint64\u001b[39;49m\u001b[39m'\u001b[39;49m}) \u001b[39m#this in order to manage the column as an integer\u001b[39;00m\n\u001b[1;32m      <a href='vscode-notebook-cell://wsl%2Bubuntu/home/alexs/data-science/museum-visits/museum_analysis.ipynb#X12sdnNjb2RlLXJlbW90ZQ%3D%3D?line=2'>3</a>\u001b[0m count_by_date\u001b[39m.\u001b[39mdtype\n",
            "File \u001b[0;32m~/.anaconda3/envs/museum-visits/lib/python3.12/site-packages/pandas/core/generic.py:6513\u001b[0m, in \u001b[0;36mNDFrame.astype\u001b[0;34m(self, dtype, copy, errors)\u001b[0m\n\u001b[1;32m   6511\u001b[0m \u001b[39melse\u001b[39;00m:\n\u001b[1;32m   6512\u001b[0m     \u001b[39mtry\u001b[39;00m:\n\u001b[0;32m-> 6513\u001b[0m         res_col \u001b[39m=\u001b[39m col\u001b[39m.\u001b[39;49mastype(dtype\u001b[39m=\u001b[39;49mcdt, copy\u001b[39m=\u001b[39;49mcopy, errors\u001b[39m=\u001b[39;49merrors)\n\u001b[1;32m   6514\u001b[0m     \u001b[39mexcept\u001b[39;00m \u001b[39mValueError\u001b[39;00m \u001b[39mas\u001b[39;00m ex:\n\u001b[1;32m   6515\u001b[0m         ex\u001b[39m.\u001b[39margs \u001b[39m=\u001b[39m (\n\u001b[1;32m   6516\u001b[0m             \u001b[39mf\u001b[39m\u001b[39m\"\u001b[39m\u001b[39m{\u001b[39;00mex\u001b[39m}\u001b[39;00m\u001b[39m: Error while type casting for column \u001b[39m\u001b[39m'\u001b[39m\u001b[39m{\u001b[39;00mcol_name\u001b[39m}\u001b[39;00m\u001b[39m'\u001b[39m\u001b[39m\"\u001b[39m,\n\u001b[1;32m   6517\u001b[0m         )\n",
            "File \u001b[0;32m~/.anaconda3/envs/museum-visits/lib/python3.12/site-packages/pandas/core/generic.py:6534\u001b[0m, in \u001b[0;36mNDFrame.astype\u001b[0;34m(self, dtype, copy, errors)\u001b[0m\n\u001b[1;32m   6530\u001b[0m     results \u001b[39m=\u001b[39m [ser\u001b[39m.\u001b[39mastype(dtype, copy\u001b[39m=\u001b[39mcopy) \u001b[39mfor\u001b[39;00m _, ser \u001b[39min\u001b[39;00m \u001b[39mself\u001b[39m\u001b[39m.\u001b[39mitems()]\n\u001b[1;32m   6532\u001b[0m \u001b[39melse\u001b[39;00m:\n\u001b[1;32m   6533\u001b[0m     \u001b[39m# else, only a single dtype is given\u001b[39;00m\n\u001b[0;32m-> 6534\u001b[0m     new_data \u001b[39m=\u001b[39m \u001b[39mself\u001b[39;49m\u001b[39m.\u001b[39;49m_mgr\u001b[39m.\u001b[39;49mastype(dtype\u001b[39m=\u001b[39;49mdtype, copy\u001b[39m=\u001b[39;49mcopy, errors\u001b[39m=\u001b[39;49merrors)\n\u001b[1;32m   6535\u001b[0m     res \u001b[39m=\u001b[39m \u001b[39mself\u001b[39m\u001b[39m.\u001b[39m_constructor_from_mgr(new_data, axes\u001b[39m=\u001b[39mnew_data\u001b[39m.\u001b[39maxes)\n\u001b[1;32m   6536\u001b[0m     \u001b[39mreturn\u001b[39;00m res\u001b[39m.\u001b[39m__finalize__(\u001b[39mself\u001b[39m, method\u001b[39m=\u001b[39m\u001b[39m\"\u001b[39m\u001b[39mastype\u001b[39m\u001b[39m\"\u001b[39m)\n",
            "File \u001b[0;32m~/.anaconda3/envs/museum-visits/lib/python3.12/site-packages/pandas/core/internals/managers.py:414\u001b[0m, in \u001b[0;36mBaseBlockManager.astype\u001b[0;34m(self, dtype, copy, errors)\u001b[0m\n\u001b[1;32m    411\u001b[0m \u001b[39melif\u001b[39;00m using_copy_on_write():\n\u001b[1;32m    412\u001b[0m     copy \u001b[39m=\u001b[39m \u001b[39mFalse\u001b[39;00m\n\u001b[0;32m--> 414\u001b[0m \u001b[39mreturn\u001b[39;00m \u001b[39mself\u001b[39;49m\u001b[39m.\u001b[39;49mapply(\n\u001b[1;32m    415\u001b[0m     \u001b[39m\"\u001b[39;49m\u001b[39mastype\u001b[39;49m\u001b[39m\"\u001b[39;49m,\n\u001b[1;32m    416\u001b[0m     dtype\u001b[39m=\u001b[39;49mdtype,\n\u001b[1;32m    417\u001b[0m     copy\u001b[39m=\u001b[39;49mcopy,\n\u001b[1;32m    418\u001b[0m     errors\u001b[39m=\u001b[39;49merrors,\n\u001b[1;32m    419\u001b[0m     using_cow\u001b[39m=\u001b[39;49musing_copy_on_write(),\n\u001b[1;32m    420\u001b[0m )\n",
            "File \u001b[0;32m~/.anaconda3/envs/museum-visits/lib/python3.12/site-packages/pandas/core/internals/managers.py:354\u001b[0m, in \u001b[0;36mBaseBlockManager.apply\u001b[0;34m(self, f, align_keys, **kwargs)\u001b[0m\n\u001b[1;32m    352\u001b[0m         applied \u001b[39m=\u001b[39m b\u001b[39m.\u001b[39mapply(f, \u001b[39m*\u001b[39m\u001b[39m*\u001b[39mkwargs)\n\u001b[1;32m    353\u001b[0m     \u001b[39melse\u001b[39;00m:\n\u001b[0;32m--> 354\u001b[0m         applied \u001b[39m=\u001b[39m \u001b[39mgetattr\u001b[39;49m(b, f)(\u001b[39m*\u001b[39;49m\u001b[39m*\u001b[39;49mkwargs)\n\u001b[1;32m    355\u001b[0m     result_blocks \u001b[39m=\u001b[39m extend_blocks(applied, result_blocks)\n\u001b[1;32m    357\u001b[0m out \u001b[39m=\u001b[39m \u001b[39mtype\u001b[39m(\u001b[39mself\u001b[39m)\u001b[39m.\u001b[39mfrom_blocks(result_blocks, \u001b[39mself\u001b[39m\u001b[39m.\u001b[39maxes)\n",
            "File \u001b[0;32m~/.anaconda3/envs/museum-visits/lib/python3.12/site-packages/pandas/core/internals/blocks.py:616\u001b[0m, in \u001b[0;36mBlock.astype\u001b[0;34m(self, dtype, copy, errors, using_cow)\u001b[0m\n\u001b[1;32m    596\u001b[0m \u001b[39m\u001b[39m\u001b[39m\"\"\"\u001b[39;00m\n\u001b[1;32m    597\u001b[0m \u001b[39mCoerce to the new dtype.\u001b[39;00m\n\u001b[1;32m    598\u001b[0m \n\u001b[0;32m   (...)\u001b[0m\n\u001b[1;32m    612\u001b[0m \u001b[39mBlock\u001b[39;00m\n\u001b[1;32m    613\u001b[0m \u001b[39m\"\"\"\u001b[39;00m\n\u001b[1;32m    614\u001b[0m values \u001b[39m=\u001b[39m \u001b[39mself\u001b[39m\u001b[39m.\u001b[39mvalues\n\u001b[0;32m--> 616\u001b[0m new_values \u001b[39m=\u001b[39m astype_array_safe(values, dtype, copy\u001b[39m=\u001b[39;49mcopy, errors\u001b[39m=\u001b[39;49merrors)\n\u001b[1;32m    618\u001b[0m new_values \u001b[39m=\u001b[39m maybe_coerce_values(new_values)\n\u001b[1;32m    620\u001b[0m refs \u001b[39m=\u001b[39m \u001b[39mNone\u001b[39;00m\n",
            "File \u001b[0;32m~/.anaconda3/envs/museum-visits/lib/python3.12/site-packages/pandas/core/dtypes/astype.py:238\u001b[0m, in \u001b[0;36mastype_array_safe\u001b[0;34m(values, dtype, copy, errors)\u001b[0m\n\u001b[1;32m    235\u001b[0m     dtype \u001b[39m=\u001b[39m dtype\u001b[39m.\u001b[39mnumpy_dtype\n\u001b[1;32m    237\u001b[0m \u001b[39mtry\u001b[39;00m:\n\u001b[0;32m--> 238\u001b[0m     new_values \u001b[39m=\u001b[39m astype_array(values, dtype, copy\u001b[39m=\u001b[39;49mcopy)\n\u001b[1;32m    239\u001b[0m \u001b[39mexcept\u001b[39;00m (\u001b[39mValueError\u001b[39;00m, \u001b[39mTypeError\u001b[39;00m):\n\u001b[1;32m    240\u001b[0m     \u001b[39m# e.g. _astype_nansafe can fail on object-dtype of strings\u001b[39;00m\n\u001b[1;32m    241\u001b[0m     \u001b[39m#  trying to convert to float\u001b[39;00m\n\u001b[1;32m    242\u001b[0m     \u001b[39mif\u001b[39;00m errors \u001b[39m==\u001b[39m \u001b[39m\"\u001b[39m\u001b[39mignore\u001b[39m\u001b[39m\"\u001b[39m:\n",
            "File \u001b[0;32m~/.anaconda3/envs/museum-visits/lib/python3.12/site-packages/pandas/core/dtypes/astype.py:183\u001b[0m, in \u001b[0;36mastype_array\u001b[0;34m(values, dtype, copy)\u001b[0m\n\u001b[1;32m    180\u001b[0m     values \u001b[39m=\u001b[39m values\u001b[39m.\u001b[39mastype(dtype, copy\u001b[39m=\u001b[39mcopy)\n\u001b[1;32m    182\u001b[0m \u001b[39melse\u001b[39;00m:\n\u001b[0;32m--> 183\u001b[0m     values \u001b[39m=\u001b[39m _astype_nansafe(values, dtype, copy\u001b[39m=\u001b[39;49mcopy)\n\u001b[1;32m    185\u001b[0m \u001b[39m# in pandas we don't store numpy str dtypes, so convert to object\u001b[39;00m\n\u001b[1;32m    186\u001b[0m \u001b[39mif\u001b[39;00m \u001b[39misinstance\u001b[39m(dtype, np\u001b[39m.\u001b[39mdtype) \u001b[39mand\u001b[39;00m \u001b[39missubclass\u001b[39m(values\u001b[39m.\u001b[39mdtype\u001b[39m.\u001b[39mtype, \u001b[39mstr\u001b[39m):\n",
            "File \u001b[0;32m~/.anaconda3/envs/museum-visits/lib/python3.12/site-packages/pandas/core/dtypes/astype.py:134\u001b[0m, in \u001b[0;36m_astype_nansafe\u001b[0;34m(arr, dtype, copy, skipna)\u001b[0m\n\u001b[1;32m    130\u001b[0m     \u001b[39mraise\u001b[39;00m \u001b[39mValueError\u001b[39;00m(msg)\n\u001b[1;32m    132\u001b[0m \u001b[39mif\u001b[39;00m copy \u001b[39mor\u001b[39;00m arr\u001b[39m.\u001b[39mdtype \u001b[39m==\u001b[39m \u001b[39mobject\u001b[39m \u001b[39mor\u001b[39;00m dtype \u001b[39m==\u001b[39m \u001b[39mobject\u001b[39m:\n\u001b[1;32m    133\u001b[0m     \u001b[39m# Explicit copy, or required since NumPy can't view from / to object.\u001b[39;00m\n\u001b[0;32m--> 134\u001b[0m     \u001b[39mreturn\u001b[39;00m arr\u001b[39m.\u001b[39;49mastype(dtype, copy\u001b[39m=\u001b[39;49m\u001b[39mTrue\u001b[39;49;00m)\n\u001b[1;32m    136\u001b[0m \u001b[39mreturn\u001b[39;00m arr\u001b[39m.\u001b[39mastype(dtype, copy\u001b[39m=\u001b[39mcopy)\n",
            "\u001b[0;31mValueError\u001b[0m: invalid literal for int() with base 10: 'ENERO ': Error while type casting for column 'MES'"
          ]
        }
      ],
      "source": [
        "count_by_date = df.replace({\"MES\": month_dict}, inplace=False)\n",
        "count_by_date = count_by_date.astype({\"MES\": 'int64'}) #this in order to manage the column as an integer\n",
        "count_by_date.dtype"
      ]
    },
    {
      "cell_type": "markdown",
      "metadata": {
        "id": "LNIXJTlRvbM0"
      },
      "source": [
        "We can see there are some inconsistencies with the month column. Some adjustments are required.\n"
      ]
    },
    {
      "cell_type": "code",
      "execution_count": 8,
      "metadata": {
        "colab": {
          "base_uri": "https://localhost:8080/",
          "height": 373
        },
        "id": "OEqbZyjvvscB",
        "outputId": "260cc1e3-6b9e-4203-a24e-821366174117"
      },
      "outputs": [
        {
          "ename": "ValueError",
          "evalue": "invalid literal for int() with base 10: 'FERBERO': Error while type casting for column 'MES'",
          "output_type": "error",
          "traceback": [
            "\u001b[0;31m---------------------------------------------------------------------------\u001b[0m",
            "\u001b[0;31mValueError\u001b[0m                                Traceback (most recent call last)",
            "\u001b[1;32m/home/alexs/data-science/museum-visits/museum_analysis.ipynb Cell 12\u001b[0m line \u001b[0;36m3\n\u001b[1;32m      <a href='vscode-notebook-cell://wsl%2Bubuntu/home/alexs/data-science/museum-visits/museum_analysis.ipynb#X14sdnNjb2RlLXJlbW90ZQ%3D%3D?line=0'>1</a>\u001b[0m df[\u001b[39m'\u001b[39m\u001b[39mMES\u001b[39m\u001b[39m'\u001b[39m] \u001b[39m=\u001b[39m df[\u001b[39m'\u001b[39m\u001b[39mMES\u001b[39m\u001b[39m'\u001b[39m]\u001b[39m.\u001b[39mstr\u001b[39m.\u001b[39mstrip()\n\u001b[1;32m      <a href='vscode-notebook-cell://wsl%2Bubuntu/home/alexs/data-science/museum-visits/museum_analysis.ipynb#X14sdnNjb2RlLXJlbW90ZQ%3D%3D?line=1'>2</a>\u001b[0m count_by_date \u001b[39m=\u001b[39m df\u001b[39m.\u001b[39mreplace({\u001b[39m\"\u001b[39m\u001b[39mMES\u001b[39m\u001b[39m\"\u001b[39m: month_dict}, inplace\u001b[39m=\u001b[39m\u001b[39mFalse\u001b[39;00m)\n\u001b[0;32m----> <a href='vscode-notebook-cell://wsl%2Bubuntu/home/alexs/data-science/museum-visits/museum_analysis.ipynb#X14sdnNjb2RlLXJlbW90ZQ%3D%3D?line=2'>3</a>\u001b[0m count_by_date \u001b[39m=\u001b[39m count_by_date\u001b[39m.\u001b[39;49mastype({\u001b[39m\"\u001b[39;49m\u001b[39mMES\u001b[39;49m\u001b[39m\"\u001b[39;49m: \u001b[39m'\u001b[39;49m\u001b[39mint64\u001b[39;49m\u001b[39m'\u001b[39;49m}) \u001b[39m#this in order to manage the column as an integer\u001b[39;00m\n\u001b[1;32m      <a href='vscode-notebook-cell://wsl%2Bubuntu/home/alexs/data-science/museum-visits/museum_analysis.ipynb#X14sdnNjb2RlLXJlbW90ZQ%3D%3D?line=3'>4</a>\u001b[0m count_by_date\u001b[39m.\u001b[39mdtype\n",
            "File \u001b[0;32m~/.anaconda3/envs/museum-visits/lib/python3.12/site-packages/pandas/core/generic.py:6513\u001b[0m, in \u001b[0;36mNDFrame.astype\u001b[0;34m(self, dtype, copy, errors)\u001b[0m\n\u001b[1;32m   6511\u001b[0m \u001b[39melse\u001b[39;00m:\n\u001b[1;32m   6512\u001b[0m     \u001b[39mtry\u001b[39;00m:\n\u001b[0;32m-> 6513\u001b[0m         res_col \u001b[39m=\u001b[39m col\u001b[39m.\u001b[39;49mastype(dtype\u001b[39m=\u001b[39;49mcdt, copy\u001b[39m=\u001b[39;49mcopy, errors\u001b[39m=\u001b[39;49merrors)\n\u001b[1;32m   6514\u001b[0m     \u001b[39mexcept\u001b[39;00m \u001b[39mValueError\u001b[39;00m \u001b[39mas\u001b[39;00m ex:\n\u001b[1;32m   6515\u001b[0m         ex\u001b[39m.\u001b[39margs \u001b[39m=\u001b[39m (\n\u001b[1;32m   6516\u001b[0m             \u001b[39mf\u001b[39m\u001b[39m\"\u001b[39m\u001b[39m{\u001b[39;00mex\u001b[39m}\u001b[39;00m\u001b[39m: Error while type casting for column \u001b[39m\u001b[39m'\u001b[39m\u001b[39m{\u001b[39;00mcol_name\u001b[39m}\u001b[39;00m\u001b[39m'\u001b[39m\u001b[39m\"\u001b[39m,\n\u001b[1;32m   6517\u001b[0m         )\n",
            "File \u001b[0;32m~/.anaconda3/envs/museum-visits/lib/python3.12/site-packages/pandas/core/generic.py:6534\u001b[0m, in \u001b[0;36mNDFrame.astype\u001b[0;34m(self, dtype, copy, errors)\u001b[0m\n\u001b[1;32m   6530\u001b[0m     results \u001b[39m=\u001b[39m [ser\u001b[39m.\u001b[39mastype(dtype, copy\u001b[39m=\u001b[39mcopy) \u001b[39mfor\u001b[39;00m _, ser \u001b[39min\u001b[39;00m \u001b[39mself\u001b[39m\u001b[39m.\u001b[39mitems()]\n\u001b[1;32m   6532\u001b[0m \u001b[39melse\u001b[39;00m:\n\u001b[1;32m   6533\u001b[0m     \u001b[39m# else, only a single dtype is given\u001b[39;00m\n\u001b[0;32m-> 6534\u001b[0m     new_data \u001b[39m=\u001b[39m \u001b[39mself\u001b[39;49m\u001b[39m.\u001b[39;49m_mgr\u001b[39m.\u001b[39;49mastype(dtype\u001b[39m=\u001b[39;49mdtype, copy\u001b[39m=\u001b[39;49mcopy, errors\u001b[39m=\u001b[39;49merrors)\n\u001b[1;32m   6535\u001b[0m     res \u001b[39m=\u001b[39m \u001b[39mself\u001b[39m\u001b[39m.\u001b[39m_constructor_from_mgr(new_data, axes\u001b[39m=\u001b[39mnew_data\u001b[39m.\u001b[39maxes)\n\u001b[1;32m   6536\u001b[0m     \u001b[39mreturn\u001b[39;00m res\u001b[39m.\u001b[39m__finalize__(\u001b[39mself\u001b[39m, method\u001b[39m=\u001b[39m\u001b[39m\"\u001b[39m\u001b[39mastype\u001b[39m\u001b[39m\"\u001b[39m)\n",
            "File \u001b[0;32m~/.anaconda3/envs/museum-visits/lib/python3.12/site-packages/pandas/core/internals/managers.py:414\u001b[0m, in \u001b[0;36mBaseBlockManager.astype\u001b[0;34m(self, dtype, copy, errors)\u001b[0m\n\u001b[1;32m    411\u001b[0m \u001b[39melif\u001b[39;00m using_copy_on_write():\n\u001b[1;32m    412\u001b[0m     copy \u001b[39m=\u001b[39m \u001b[39mFalse\u001b[39;00m\n\u001b[0;32m--> 414\u001b[0m \u001b[39mreturn\u001b[39;00m \u001b[39mself\u001b[39;49m\u001b[39m.\u001b[39;49mapply(\n\u001b[1;32m    415\u001b[0m     \u001b[39m\"\u001b[39;49m\u001b[39mastype\u001b[39;49m\u001b[39m\"\u001b[39;49m,\n\u001b[1;32m    416\u001b[0m     dtype\u001b[39m=\u001b[39;49mdtype,\n\u001b[1;32m    417\u001b[0m     copy\u001b[39m=\u001b[39;49mcopy,\n\u001b[1;32m    418\u001b[0m     errors\u001b[39m=\u001b[39;49merrors,\n\u001b[1;32m    419\u001b[0m     using_cow\u001b[39m=\u001b[39;49musing_copy_on_write(),\n\u001b[1;32m    420\u001b[0m )\n",
            "File \u001b[0;32m~/.anaconda3/envs/museum-visits/lib/python3.12/site-packages/pandas/core/internals/managers.py:354\u001b[0m, in \u001b[0;36mBaseBlockManager.apply\u001b[0;34m(self, f, align_keys, **kwargs)\u001b[0m\n\u001b[1;32m    352\u001b[0m         applied \u001b[39m=\u001b[39m b\u001b[39m.\u001b[39mapply(f, \u001b[39m*\u001b[39m\u001b[39m*\u001b[39mkwargs)\n\u001b[1;32m    353\u001b[0m     \u001b[39melse\u001b[39;00m:\n\u001b[0;32m--> 354\u001b[0m         applied \u001b[39m=\u001b[39m \u001b[39mgetattr\u001b[39;49m(b, f)(\u001b[39m*\u001b[39;49m\u001b[39m*\u001b[39;49mkwargs)\n\u001b[1;32m    355\u001b[0m     result_blocks \u001b[39m=\u001b[39m extend_blocks(applied, result_blocks)\n\u001b[1;32m    357\u001b[0m out \u001b[39m=\u001b[39m \u001b[39mtype\u001b[39m(\u001b[39mself\u001b[39m)\u001b[39m.\u001b[39mfrom_blocks(result_blocks, \u001b[39mself\u001b[39m\u001b[39m.\u001b[39maxes)\n",
            "File \u001b[0;32m~/.anaconda3/envs/museum-visits/lib/python3.12/site-packages/pandas/core/internals/blocks.py:616\u001b[0m, in \u001b[0;36mBlock.astype\u001b[0;34m(self, dtype, copy, errors, using_cow)\u001b[0m\n\u001b[1;32m    596\u001b[0m \u001b[39m\u001b[39m\u001b[39m\"\"\"\u001b[39;00m\n\u001b[1;32m    597\u001b[0m \u001b[39mCoerce to the new dtype.\u001b[39;00m\n\u001b[1;32m    598\u001b[0m \n\u001b[0;32m   (...)\u001b[0m\n\u001b[1;32m    612\u001b[0m \u001b[39mBlock\u001b[39;00m\n\u001b[1;32m    613\u001b[0m \u001b[39m\"\"\"\u001b[39;00m\n\u001b[1;32m    614\u001b[0m values \u001b[39m=\u001b[39m \u001b[39mself\u001b[39m\u001b[39m.\u001b[39mvalues\n\u001b[0;32m--> 616\u001b[0m new_values \u001b[39m=\u001b[39m astype_array_safe(values, dtype, copy\u001b[39m=\u001b[39;49mcopy, errors\u001b[39m=\u001b[39;49merrors)\n\u001b[1;32m    618\u001b[0m new_values \u001b[39m=\u001b[39m maybe_coerce_values(new_values)\n\u001b[1;32m    620\u001b[0m refs \u001b[39m=\u001b[39m \u001b[39mNone\u001b[39;00m\n",
            "File \u001b[0;32m~/.anaconda3/envs/museum-visits/lib/python3.12/site-packages/pandas/core/dtypes/astype.py:238\u001b[0m, in \u001b[0;36mastype_array_safe\u001b[0;34m(values, dtype, copy, errors)\u001b[0m\n\u001b[1;32m    235\u001b[0m     dtype \u001b[39m=\u001b[39m dtype\u001b[39m.\u001b[39mnumpy_dtype\n\u001b[1;32m    237\u001b[0m \u001b[39mtry\u001b[39;00m:\n\u001b[0;32m--> 238\u001b[0m     new_values \u001b[39m=\u001b[39m astype_array(values, dtype, copy\u001b[39m=\u001b[39;49mcopy)\n\u001b[1;32m    239\u001b[0m \u001b[39mexcept\u001b[39;00m (\u001b[39mValueError\u001b[39;00m, \u001b[39mTypeError\u001b[39;00m):\n\u001b[1;32m    240\u001b[0m     \u001b[39m# e.g. _astype_nansafe can fail on object-dtype of strings\u001b[39;00m\n\u001b[1;32m    241\u001b[0m     \u001b[39m#  trying to convert to float\u001b[39;00m\n\u001b[1;32m    242\u001b[0m     \u001b[39mif\u001b[39;00m errors \u001b[39m==\u001b[39m \u001b[39m\"\u001b[39m\u001b[39mignore\u001b[39m\u001b[39m\"\u001b[39m:\n",
            "File \u001b[0;32m~/.anaconda3/envs/museum-visits/lib/python3.12/site-packages/pandas/core/dtypes/astype.py:183\u001b[0m, in \u001b[0;36mastype_array\u001b[0;34m(values, dtype, copy)\u001b[0m\n\u001b[1;32m    180\u001b[0m     values \u001b[39m=\u001b[39m values\u001b[39m.\u001b[39mastype(dtype, copy\u001b[39m=\u001b[39mcopy)\n\u001b[1;32m    182\u001b[0m \u001b[39melse\u001b[39;00m:\n\u001b[0;32m--> 183\u001b[0m     values \u001b[39m=\u001b[39m _astype_nansafe(values, dtype, copy\u001b[39m=\u001b[39;49mcopy)\n\u001b[1;32m    185\u001b[0m \u001b[39m# in pandas we don't store numpy str dtypes, so convert to object\u001b[39;00m\n\u001b[1;32m    186\u001b[0m \u001b[39mif\u001b[39;00m \u001b[39misinstance\u001b[39m(dtype, np\u001b[39m.\u001b[39mdtype) \u001b[39mand\u001b[39;00m \u001b[39missubclass\u001b[39m(values\u001b[39m.\u001b[39mdtype\u001b[39m.\u001b[39mtype, \u001b[39mstr\u001b[39m):\n",
            "File \u001b[0;32m~/.anaconda3/envs/museum-visits/lib/python3.12/site-packages/pandas/core/dtypes/astype.py:134\u001b[0m, in \u001b[0;36m_astype_nansafe\u001b[0;34m(arr, dtype, copy, skipna)\u001b[0m\n\u001b[1;32m    130\u001b[0m     \u001b[39mraise\u001b[39;00m \u001b[39mValueError\u001b[39;00m(msg)\n\u001b[1;32m    132\u001b[0m \u001b[39mif\u001b[39;00m copy \u001b[39mor\u001b[39;00m arr\u001b[39m.\u001b[39mdtype \u001b[39m==\u001b[39m \u001b[39mobject\u001b[39m \u001b[39mor\u001b[39;00m dtype \u001b[39m==\u001b[39m \u001b[39mobject\u001b[39m:\n\u001b[1;32m    133\u001b[0m     \u001b[39m# Explicit copy, or required since NumPy can't view from / to object.\u001b[39;00m\n\u001b[0;32m--> 134\u001b[0m     \u001b[39mreturn\u001b[39;00m arr\u001b[39m.\u001b[39;49mastype(dtype, copy\u001b[39m=\u001b[39;49m\u001b[39mTrue\u001b[39;49;00m)\n\u001b[1;32m    136\u001b[0m \u001b[39mreturn\u001b[39;00m arr\u001b[39m.\u001b[39mastype(dtype, copy\u001b[39m=\u001b[39mcopy)\n",
            "\u001b[0;31mValueError\u001b[0m: invalid literal for int() with base 10: 'FERBERO': Error while type casting for column 'MES'"
          ]
        }
      ],
      "source": [
        "df['MES'] = df['MES'].str.strip()\n",
        "count_by_date = df.replace({\"MES\": month_dict}, inplace=False)\n",
        "count_by_date = count_by_date.astype({\"MES\": 'int64'}) #this in order to manage the column as an integer\n",
        "count_by_date.dtype"
      ]
    },
    {
      "cell_type": "markdown",
      "metadata": {
        "id": "SbpKFyFaxG2U"
      },
      "source": [
        "We can see that there are some typos as well, this could prove a bit difficult considering there could be many different types of typos for the same month. Let's check the unique values in the \"MES\" column\n"
      ]
    },
    {
      "cell_type": "code",
      "execution_count": 9,
      "metadata": {
        "colab": {
          "base_uri": "https://localhost:8080/"
        },
        "id": "BmZxDcDIxeV2",
        "outputId": "568a3f57-8e1a-473c-bcf0-1a143f2c6279"
      },
      "outputs": [
        {
          "data": {
            "text/plain": [
              "array(['ENERO', 'FEBRERO', 'MARZO', 'ABRIL', 'MAYO', 'JUNIO', 'JULIO',\n",
              "       'AGOSTO', 'SEPTIEMBRE', 'OCTUBRE', 'NOVIEMBRE', 'DICIEMBRE',\n",
              "       'FERBERO'], dtype=object)"
            ]
          },
          "execution_count": 9,
          "metadata": {},
          "output_type": "execute_result"
        }
      ],
      "source": [
        "df['MES'].unique()"
      ]
    },
    {
      "cell_type": "markdown",
      "metadata": {
        "id": "0FpqhtJ0xo3z"
      },
      "source": [
        "In this case it seems the only typo is for \"FERBERO\". It would be more readable to replace all instances of \"FERBERO\" to \"FEBRERO\" and then make the replacement to integers, but it would mean passing through the dataframe twice. In this case I would rather replace the typo directly to the integer that corresponds to the month.\n"
      ]
    },
    {
      "cell_type": "code",
      "execution_count": 10,
      "metadata": {
        "colab": {
          "base_uri": "https://localhost:8080/"
        },
        "id": "L-JjzxV3xoTj",
        "outputId": "28eb1b15-58bc-42b8-b0fa-58792f438bbc"
      },
      "outputs": [
        {
          "data": {
            "text/plain": [
              "MUSEO                  object\n",
              "NIÑOS NACIONALES        int64\n",
              "ADULTOS NACIONALES      int64\n",
              "NIÑOS EXTRANJEROS       int64\n",
              "ADULTOS EXTRANJEROS     int64\n",
              "PROFESORES              int64\n",
              "ESTUDIANTES             int64\n",
              "MES                     int64\n",
              "AÑO                     int64\n",
              "dtype: object"
            ]
          },
          "execution_count": 10,
          "metadata": {},
          "output_type": "execute_result"
        }
      ],
      "source": [
        "month_dict['FERBERO'] = 2\n",
        "df['MES'] = df['MES'].str.strip()\n",
        "count_by_date = df.replace({\"MES\": month_dict}, inplace=False)\n",
        "count_by_date = count_by_date.astype({\"MES\": 'int64'}) #this in order to manage the column as an integer\n",
        "count_by_date.dtypes"
      ]
    },
    {
      "cell_type": "markdown",
      "metadata": {
        "id": "lzCWpaFKyxKM"
      },
      "source": [
        "For time series, the index must be a date column. Considering we lack the day column, we can just take the last day of each month.\n"
      ]
    },
    {
      "cell_type": "code",
      "execution_count": 13,
      "metadata": {
        "id": "aQJr7mdT0tUJ"
      },
      "outputs": [
        {
          "data": {
            "text/html": [
              "<div>\n",
              "<style scoped>\n",
              "    .dataframe tbody tr th:only-of-type {\n",
              "        vertical-align: middle;\n",
              "    }\n",
              "\n",
              "    .dataframe tbody tr th {\n",
              "        vertical-align: top;\n",
              "    }\n",
              "\n",
              "    .dataframe thead th {\n",
              "        text-align: right;\n",
              "    }\n",
              "</style>\n",
              "<table border=\"1\" class=\"dataframe\">\n",
              "  <thead>\n",
              "    <tr style=\"text-align: right;\">\n",
              "      <th></th>\n",
              "      <th>MUSEO</th>\n",
              "      <th>NIÑOS NACIONALES</th>\n",
              "      <th>ADULTOS NACIONALES</th>\n",
              "      <th>NIÑOS EXTRANJEROS</th>\n",
              "      <th>ADULTOS EXTRANJEROS</th>\n",
              "      <th>PROFESORES</th>\n",
              "      <th>ESTUDIANTES</th>\n",
              "      <th>MES</th>\n",
              "      <th>AÑO</th>\n",
              "      <th>date</th>\n",
              "    </tr>\n",
              "  </thead>\n",
              "  <tbody>\n",
              "    <tr>\n",
              "      <th>0</th>\n",
              "      <td>MUSEO DE LA FAMILIA DOMINICANA</td>\n",
              "      <td>0</td>\n",
              "      <td>29</td>\n",
              "      <td>0</td>\n",
              "      <td>180</td>\n",
              "      <td>0</td>\n",
              "      <td>85</td>\n",
              "      <td>1</td>\n",
              "      <td>2016</td>\n",
              "      <td>2016-01-31</td>\n",
              "    </tr>\n",
              "    <tr>\n",
              "      <th>1</th>\n",
              "      <td>FORTALEZA DE SANTO DOMINGO</td>\n",
              "      <td>88</td>\n",
              "      <td>1052</td>\n",
              "      <td>105</td>\n",
              "      <td>1268</td>\n",
              "      <td>6</td>\n",
              "      <td>293</td>\n",
              "      <td>1</td>\n",
              "      <td>2016</td>\n",
              "      <td>2016-01-31</td>\n",
              "    </tr>\n",
              "    <tr>\n",
              "      <th>2</th>\n",
              "      <td>MUSEO DEL HOMBRE DOMINICANO</td>\n",
              "      <td>48</td>\n",
              "      <td>152</td>\n",
              "      <td>2</td>\n",
              "      <td>100</td>\n",
              "      <td>18</td>\n",
              "      <td>685</td>\n",
              "      <td>1</td>\n",
              "      <td>2016</td>\n",
              "      <td>2016-01-31</td>\n",
              "    </tr>\n",
              "    <tr>\n",
              "      <th>3</th>\n",
              "      <td>MUSEO FORTALEZA SAN FELIPE PTO PLATA</td>\n",
              "      <td>48</td>\n",
              "      <td>961</td>\n",
              "      <td>0</td>\n",
              "      <td>5476</td>\n",
              "      <td>0</td>\n",
              "      <td>54</td>\n",
              "      <td>1</td>\n",
              "      <td>2016</td>\n",
              "      <td>2016-01-31</td>\n",
              "    </tr>\n",
              "    <tr>\n",
              "      <th>4</th>\n",
              "      <td>MUSEO FARO A COLON</td>\n",
              "      <td>43</td>\n",
              "      <td>683</td>\n",
              "      <td>74</td>\n",
              "      <td>2892</td>\n",
              "      <td>0</td>\n",
              "      <td>21</td>\n",
              "      <td>1</td>\n",
              "      <td>2016</td>\n",
              "      <td>2016-01-31</td>\n",
              "    </tr>\n",
              "  </tbody>\n",
              "</table>\n",
              "</div>"
            ],
            "text/plain": [
              "                                  MUSEO  NIÑOS NACIONALES  ADULTOS NACIONALES  \\\n",
              "0        MUSEO DE LA FAMILIA DOMINICANA                 0                  29   \n",
              "1            FORTALEZA DE SANTO DOMINGO                88                1052   \n",
              "2           MUSEO DEL HOMBRE DOMINICANO                48                 152   \n",
              "3  MUSEO FORTALEZA SAN FELIPE PTO PLATA                48                 961   \n",
              "4                    MUSEO FARO A COLON                43                 683   \n",
              "\n",
              "   NIÑOS EXTRANJEROS  ADULTOS EXTRANJEROS  PROFESORES  ESTUDIANTES  MES   AÑO  \\\n",
              "0                  0                  180           0           85    1  2016   \n",
              "1                105                 1268           6          293    1  2016   \n",
              "2                  2                  100          18          685    1  2016   \n",
              "3                  0                 5476           0           54    1  2016   \n",
              "4                 74                 2892           0           21    1  2016   \n",
              "\n",
              "        date  \n",
              "0 2016-01-31  \n",
              "1 2016-01-31  \n",
              "2 2016-01-31  \n",
              "3 2016-01-31  \n",
              "4 2016-01-31  "
            ]
          },
          "execution_count": 13,
          "metadata": {},
          "output_type": "execute_result"
        }
      ],
      "source": [
        "import calendar\n",
        "\n",
        "def get_last_day_date(row : pd.Series, year_col_name : str, month_col_name : str) -> pd.Timestamp:\n",
        "  year = row[year_col_name]\n",
        "  month = row[month_col_name]\n",
        "  day = calendar.monthrange(year, month)[1]\n",
        "  return pd.Timestamp(year=year, month=month, day=day)\n",
        "\n",
        "count_by_date['date'] = count_by_date.apply(lambda row: get_last_day_date(row, 'AÑO', 'MES'), axis=1)\n",
        "count_by_date.head(5)"
      ]
    }
  ],
  "metadata": {
    "colab": {
      "provenance": []
    },
    "kernelspec": {
      "display_name": "Python 3",
      "name": "python3"
    },
    "language_info": {
      "codemirror_mode": {
        "name": "ipython",
        "version": 3
      },
      "file_extension": ".py",
      "mimetype": "text/x-python",
      "name": "python",
      "nbconvert_exporter": "python",
      "pygments_lexer": "ipython3",
      "version": "3.12.0"
    }
  },
  "nbformat": 4,
  "nbformat_minor": 0
}
